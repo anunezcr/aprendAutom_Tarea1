{
 "cells": [
  {
   "cell_type": "markdown",
   "metadata": {},
   "source": [
    "# Curso: Aprendizaje Automático\n",
    "# Tarea1 - Normalización y Estandarización\n",
    "## Alonso Nuñez Sanchez\n",
    "## Fecha de entrega: 22 julio 2019\n"
   ]
  },
  {
   "cell_type": "markdown",
   "metadata": {},
   "source": [
    "### Importar dependencias:"
   ]
  },
  {
   "cell_type": "code",
   "execution_count": 1,
   "metadata": {},
   "outputs": [],
   "source": [
    "import numpy as np\n",
    "import pandas as pd\n",
    "from sklearn.preprocessing import MinMaxScaler\n",
    "from sklearn.preprocessing import StandardScaler"
   ]
  },
  {
   "cell_type": "markdown",
   "metadata": {},
   "source": [
    "### Importar archivo de datos\n",
    "El archivo cargado es una modificación del original suministrado, contiene solo 1 columna (las temperaturas), y no tiene título (encabezado de columna)"
   ]
  },
  {
   "cell_type": "code",
   "execution_count": 2,
   "metadata": {},
   "outputs": [
    {
     "name": "stdout",
     "output_type": "stream",
     "text": [
      "[[20.7]\n",
      " [17.9]\n",
      " [18.8]\n",
      " ...\n",
      " [13.5]\n",
      " [15.7]\n",
      " [13. ]]\n"
     ]
    }
   ],
   "source": [
    "#método1: cargar el archivo de una ubicación local en la computadora donde se ejecuta,\n",
    "#en el mismo directorio del archivo .ipynb\n",
    "\n",
    "#archivo = 'daily-min-temperatures1.csv'\n",
    "#dataset = np.array (np.loadtxt(archivo))  #carga una matriz (array numpy) con los datos del archivo (temperaturas)\n",
    "        \n",
    "#--------------------------------------------------------------\n",
    "\n",
    "#método2: cargar el archivo desde un url:\n",
    "\n",
    "url = 'https://raw.githubusercontent.com/anunezcr/aprendAutom_Tarea1/master/daily-min-temperatures1.csv'       \n",
    "dataset = np.array (pd.read_csv(url, header=None))  #carga una matriz (array numpy) con los datos del archivo (temperaturas)\n",
    "print (dataset)"
   ]
  },
  {
   "cell_type": "markdown",
   "metadata": {},
   "source": [
    "### Normalizar y Estandarizar sin usar librerías:"
   ]
  },
  {
   "cell_type": "code",
   "execution_count": 3,
   "metadata": {},
   "outputs": [
    {
     "name": "stdout",
     "output_type": "stream",
     "text": [
      "Máximo:        [26.3]\n",
      "Mínimo:        [0.]\n",
      "Media:         11.177753424657535\n",
      "DesvEstandar:  4.071279075310806 \n",
      "\n",
      "Original:\n",
      " [[20.7]\n",
      " [17.9]\n",
      " [18.8]\n",
      " ...\n",
      " [13.5]\n",
      " [15.7]\n",
      " [13. ]] \n",
      "\n",
      "Normalizado:\n",
      " [[0.78707224]\n",
      " [0.68060837]\n",
      " [0.7148289 ]\n",
      " ...\n",
      " [0.51330798]\n",
      " [0.59695817]\n",
      " [0.49429658]] \n",
      "\n",
      "Estandarizado:\n",
      " [[2.33888328]\n",
      " [1.65113873]\n",
      " [1.87219948]\n",
      " ...\n",
      " [0.5703973 ]\n",
      " [1.11076801]\n",
      " [0.44758577]]\n"
     ]
    }
   ],
   "source": [
    "tempOrig = dataset   #tempOrig es el dataset con las instancias originales (temperaturas originales observadas)\n",
    "\n",
    "maximo = max(tempOrig)   #valor máximo de todas las instancias\n",
    "minimo = min(tempOrig)   #valor mínimo de todas las intancias\n",
    "media = np.mean(tempOrig) #media de las instancias\n",
    "desvStd = np.std(tempOrig) #desviación estandar de las instancias\n",
    "\n",
    "#usando operaciones sobre matrices (el dataset original es una matriz/array)\n",
    "tempNorm = (tempOrig - minimo) / (maximo - minimo)  #tempNorm es la normalización de las temperaturas originales\n",
    "tempEstand = (tempOrig - media) / desvStd           #tempEstadn es la estandarización de las temperaturas originales\n",
    "\n",
    "print(\"Máximo:       \", maximo)\n",
    "print(\"Mínimo:       \", minimo)\n",
    "print(\"Media:        \", media)\n",
    "print(\"DesvEstandar: \", desvStd,\"\\n\")\n",
    "\n",
    "print(\"Original:\\n\", tempOrig, \"\\n\")\n",
    "print(\"Normalizado:\\n\", tempNorm, \"\\n\")\n",
    "print(\"Estandarizado:\\n\", tempEstand)"
   ]
  },
  {
   "cell_type": "markdown",
   "metadata": {},
   "source": [
    "### Normalizar usando libreria scikit-learn \n",
    "### Función MinMaxScaler()"
   ]
  },
  {
   "cell_type": "code",
   "execution_count": 4,
   "metadata": {},
   "outputs": [
    {
     "name": "stdout",
     "output_type": "stream",
     "text": [
      "Normalizado con skl: \n",
      " [[0.78707224]\n",
      " [0.68060837]\n",
      " [0.7148289 ]\n",
      " ...\n",
      " [0.51330798]\n",
      " [0.59695817]\n",
      " [0.49429658]]\n"
     ]
    }
   ],
   "source": [
    "#Normalizar:\n",
    "\n",
    "df = pd.DataFrame(tempOrig)   #cargar los datos originales en un DataFrame de Pandas\n",
    "\n",
    "#normalizar el DataFrame:\n",
    "scalerNrm = MinMaxScaler()\n",
    "tempNormSKL = scalerNrm.fit_transform(df)  \n",
    "\n",
    "print(\"Normalizado con skl: \\n\", tempNormSKL)"
   ]
  },
  {
   "cell_type": "markdown",
   "metadata": {},
   "source": [
    "### Estandarizar usando libreria scikit-learn\n",
    "\n",
    "### Función StandarScaler()"
   ]
  },
  {
   "cell_type": "code",
   "execution_count": 5,
   "metadata": {},
   "outputs": [
    {
     "name": "stdout",
     "output_type": "stream",
     "text": [
      "Estandarizado con skl: \n",
      " [[2.33888328]\n",
      " [1.65113873]\n",
      " [1.87219948]\n",
      " ...\n",
      " [0.5703973 ]\n",
      " [1.11076801]\n",
      " [0.44758577]]\n"
     ]
    }
   ],
   "source": [
    "#Estandarizar:\n",
    "\n",
    "df1 = pd.DataFrame(tempOrig)   #cargar los datos originales en un DataFrame de Pandas\n",
    "\n",
    "#estandarizar el DataFrame:\n",
    "scalerStd = StandardScaler()\n",
    "tempEstandSKL = scalerStd.fit_transform(df1) \n",
    "\n",
    "print(\"Estandarizado con skl: \\n\", tempEstandSKL)"
   ]
  },
  {
   "cell_type": "code",
   "execution_count": null,
   "metadata": {},
   "outputs": [],
   "source": []
  }
 ],
 "metadata": {
  "kernelspec": {
   "display_name": "Python 3",
   "language": "python",
   "name": "python3"
  },
  "language_info": {
   "codemirror_mode": {
    "name": "ipython",
    "version": 3
   },
   "file_extension": ".py",
   "mimetype": "text/x-python",
   "name": "python",
   "nbconvert_exporter": "python",
   "pygments_lexer": "ipython3",
   "version": "3.7.3"
  }
 },
 "nbformat": 4,
 "nbformat_minor": 2
}
